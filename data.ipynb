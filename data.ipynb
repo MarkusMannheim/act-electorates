{
 "cells": [
  {
   "cell_type": "code",
   "execution_count": 142,
   "metadata": {},
   "outputs": [
    {
     "name": "stderr",
     "output_type": "stream",
     "text": [
      "<ipython-input-142-154046be95ed>:13: ParserWarning: Falling back to the 'python' engine because the 'c' engine does not support skipfooter; you can avoid this warning by specifying engine='python'.\n",
      "  ages = pd.read_csv(\"dataAge.csv\", header=6, skipfooter=11)\n"
     ]
    },
    {
     "data": {
      "text/html": [
       "<div>\n",
       "<style scoped>\n",
       "    .dataframe tbody tr th:only-of-type {\n",
       "        vertical-align: middle;\n",
       "    }\n",
       "\n",
       "    .dataframe tbody tr th {\n",
       "        vertical-align: top;\n",
       "    }\n",
       "\n",
       "    .dataframe thead th {\n",
       "        text-align: right;\n",
       "    }\n",
       "</style>\n",
       "<table border=\"1\" class=\"dataframe\">\n",
       "  <thead>\n",
       "    <tr style=\"text-align: right;\">\n",
       "      <th></th>\n",
       "    </tr>\n",
       "  </thead>\n",
       "  <tbody>\n",
       "    <tr>\n",
       "      <th>ginninderra</th>\n",
       "    </tr>\n",
       "    <tr>\n",
       "      <th>yerrabi</th>\n",
       "    </tr>\n",
       "    <tr>\n",
       "      <th>kurrajong</th>\n",
       "    </tr>\n",
       "    <tr>\n",
       "      <th>murrumbidgee</th>\n",
       "    </tr>\n",
       "    <tr>\n",
       "      <th>brindabella</th>\n",
       "    </tr>\n",
       "  </tbody>\n",
       "</table>\n",
       "</div>"
      ],
      "text/plain": [
       "Empty DataFrame\n",
       "Columns: []\n",
       "Index: [ginninderra, yerrabi, kurrajong, murrumbidgee, brindabella]"
      ]
     },
     "execution_count": 142,
     "metadata": {},
     "output_type": "execute_result"
    }
   ],
   "source": [
    "import pandas as pd\n",
    "\n",
    "topics = [\"age\", \"ancestry\", \"citizenship\", \"education\", \"households\", \"income\", \"interstate\", \"occupation\", \"publicSector\", \"religion\", \"sexuality\", \"tenure\", \"working\"]\n",
    "\n",
    "areas = pd.read_csv(\"areas.csv\", index_col=\"area\")\n",
    "areas.index = areas.index.astype(\"str\")\n",
    "areas.index.name = None\n",
    "electorates = pd.DataFrame(index=areas[\"electorate\"].unique())\n",
    "\n",
    "def electorate_sort(x):\n",
    "    return areas[\"electorate\"][x]\n",
    "\n",
    "ages = pd.read_csv(\"dataAge.csv\", header=6, skipfooter=11)\n",
    "ages.columns = [\"area\"] + list(ages.columns[1:])\n",
    "ages.index = ages[\"area\"]\n",
    "ages.index.name = None\n",
    "ages = ages[ages.columns[:-2]]\n",
    "ages.dropna(inplace=True)\n",
    "ages[\"electorates\"] = ages[\"area\"].apply(lambda x: electorate_sort(str(x)))\n",
    "ages.describe()\n",
    "\n",
    "electorates"
   ]
  },
  {
   "cell_type": "code",
   "execution_count": null,
   "metadata": {},
   "outputs": [],
   "source": []
  }
 ],
 "metadata": {
  "kernelspec": {
   "display_name": "Python 3",
   "language": "python",
   "name": "python3"
  },
  "language_info": {
   "codemirror_mode": {
    "name": "ipython",
    "version": 3
   },
   "file_extension": ".py",
   "mimetype": "text/x-python",
   "name": "python",
   "nbconvert_exporter": "python",
   "pygments_lexer": "ipython3",
   "version": "3.8.2"
  }
 },
 "nbformat": 4,
 "nbformat_minor": 4
}
