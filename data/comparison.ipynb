{
 "cells": [
  {
   "cell_type": "code",
   "execution_count": 61,
   "metadata": {},
   "outputs": [],
   "source": [
    "import pandas as pd\n",
    "import matplotlib.pyplot as plt\n",
    "import seaborn as sns\n",
    "import matplotlib\n",
    "\n",
    "topics = [\"age\", \"ancestry\", \"citizenship\", \"education\", \"households\", \"income\", \"interstate\", \"occupation\", \"publicSector\", \"religion\", \"sexuality\", \"tenure\", \"working\"]\n",
    "\n",
    "for topic in topics:\n",
    "    \n",
    "    data = pd.read_csv(\"electorates_\" + topic + \".csv\")\n",
    "    totals = [\"combined\"]\n",
    "    for column in data.columns[1:]:\n",
    "        totals.append(data[column].sum())\n",
    "    data.loc[len(data)] = totals\n",
    "\n",
    "    new_data = pd.DataFrame(columns=data.columns)\n",
    "\n",
    "    for index, row in data.iterrows():\n",
    "        sum = 0\n",
    "        new_row = [row[\"electorate\"]]\n",
    "        for column in data.columns[1:]:\n",
    "            sum = sum + row[column]\n",
    "        for column in data.columns[1:]:\n",
    "            new_row.append(row[column] / sum)\n",
    "        new_data.loc[index] = new_row\n",
    "\n",
    "    new_data.to_csv(\"percentages_\" + topic + \".csv\")"
   ]
  },
  {
   "cell_type": "code",
   "execution_count": null,
   "metadata": {},
   "outputs": [],
   "source": []
  }
 ],
 "metadata": {
  "kernelspec": {
   "display_name": "Python 3",
   "language": "python",
   "name": "python3"
  },
  "language_info": {
   "codemirror_mode": {
    "name": "ipython",
    "version": 3
   },
   "file_extension": ".py",
   "mimetype": "text/x-python",
   "name": "python",
   "nbconvert_exporter": "python",
   "pygments_lexer": "ipython3",
   "version": "3.8.2"
  }
 },
 "nbformat": 4,
 "nbformat_minor": 4
}
