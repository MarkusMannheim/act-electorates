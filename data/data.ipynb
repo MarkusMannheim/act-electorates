{
 "cells": [
  {
   "cell_type": "code",
   "execution_count": 37,
   "metadata": {},
   "outputs": [
    {
     "name": "stderr",
     "output_type": "stream",
     "text": [
      "<ipython-input-37-cc40a798bea6>:14: ParserWarning: Falling back to the 'python' engine because the 'c' engine does not support skipfooter; you can avoid this warning by specifying engine='python'.\n",
      "  data = pd.read_csv(\"data\" + topic[0].upper() + topic[1:] + \".csv\", header=6, skipfooter=11)\n"
     ]
    }
   ],
   "source": [
    "import pandas as pd\n",
    "\n",
    "topics = [\"age\", \"ancestry\", \"citizenship\", \"education\", \"households\", \"income\", \"interstate\", \"occupation\", \"publicSector\", \"religion\", \"sexuality\", \"tenure\", \"working\"]\n",
    "\n",
    "areas = pd.read_csv(\"areas.csv\", index_col=\"area\")\n",
    "areas.index = areas.index.astype(\"str\")\n",
    "areas.index.name = None\n",
    "\n",
    "def electorate_sort(x):\n",
    "    return areas[\"electorate\"][x]\n",
    "\n",
    "for topic in topics:\n",
    "    \n",
    "    data = pd.read_csv(\"data\" + topic[0].upper() + topic[1:] + \".csv\", header=6, skipfooter=11)\n",
    "    data.columns = [\"area\"] + list(data.columns[1:])\n",
    "    data.index = data[\"area\"]\n",
    "    data.index.name = None\n",
    "    data = data[data.columns[:-2]]\n",
    "    data.dropna(inplace=True)\n",
    "    data[\"electorate\"] = data[\"area\"].apply(lambda x: electorate_sort(str(x)))\n",
    "    \n",
    "    electorates = pd.DataFrame(index=areas[\"electorate\"].unique())    \n",
    "    electorates.index.name = \"electorate\"\n",
    "\n",
    "    for column in data.columns[1:-1]:\n",
    "        value_list = []\n",
    "        for electorate in electorates.index:\n",
    "            value_list.append(data[data[\"electorate\"] == electorate][column].sum())\n",
    "        electorates[column] = value_list\n",
    "    \n",
    "    electorates.to_csv(\"electorates_\" + topic + \".csv\")"
   ]
  },
  {
   "cell_type": "code",
   "execution_count": null,
   "metadata": {},
   "outputs": [],
   "source": []
  }
 ],
 "metadata": {
  "kernelspec": {
   "display_name": "Python 3",
   "language": "python",
   "name": "python3"
  },
  "language_info": {
   "codemirror_mode": {
    "name": "ipython",
    "version": 3
   },
   "file_extension": ".py",
   "mimetype": "text/x-python",
   "name": "python",
   "nbconvert_exporter": "python",
   "pygments_lexer": "ipython3",
   "version": "3.8.2"
  }
 },
 "nbformat": 4,
 "nbformat_minor": 4
}
